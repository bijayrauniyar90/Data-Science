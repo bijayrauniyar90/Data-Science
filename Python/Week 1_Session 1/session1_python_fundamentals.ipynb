{
  "nbformat": 4,
  "nbformat_minor": 0,
  "metadata": {
    "colab": {
      "provenance": []
    },
    "kernelspec": {
      "name": "python3",
      "display_name": "Python 3"
    },
    "language_info": {
      "name": "python"
    }
  },
  "cells": [
    {
      "cell_type": "markdown",
      "source": [],
      "metadata": {
        "id": "JlX2WQ0PoDYS"
      }
    },
    {
      "cell_type": "markdown",
      "source": [
        "# **1. Python Output**"
      ],
      "metadata": {
        "id": "hzbACorfoLmd"
      }
    },
    {
      "cell_type": "code",
      "source": [
        "# Python is a case sensitive language\n",
        "# In this black color is called shell....1st code takes some time to run\n",
        "# Inverted comma tells about string and number\n",
        "\n",
        "print('Hello World')"
      ],
      "metadata": {
        "colab": {
          "base_uri": "https://localhost:8080/"
        },
        "id": "qWYB71QCoPBQ",
        "outputId": "93c1184c-46b0-492f-f4d6-77d79e051a64"
      },
      "execution_count": null,
      "outputs": [
        {
          "output_type": "stream",
          "name": "stdout",
          "text": [
            "Hello World\n"
          ]
        }
      ]
    },
    {
      "cell_type": "code",
      "source": [
        "print('Bijay Rauniyar')"
      ],
      "metadata": {
        "colab": {
          "base_uri": "https://localhost:8080/"
        },
        "id": "-V1c58xTpSbJ",
        "outputId": "2dbdc2ec-407a-4b2b-8417-8415b0b6966f"
      },
      "execution_count": null,
      "outputs": [
        {
          "output_type": "stream",
          "name": "stdout",
          "text": [
            "Bijay Rauniyar\n"
          ]
        }
      ]
    },
    {
      "cell_type": "code",
      "source": [
        "print(7)"
      ],
      "metadata": {
        "colab": {
          "base_uri": "https://localhost:8080/"
        },
        "id": "VAU_cDE3pah6",
        "outputId": "dd60c6b1-08fb-424e-c308-99ef605a8f34"
      },
      "execution_count": null,
      "outputs": [
        {
          "output_type": "stream",
          "name": "stdout",
          "text": [
            "7\n"
          ]
        }
      ]
    },
    {
      "cell_type": "code",
      "source": [
        "print(7.7)"
      ],
      "metadata": {
        "colab": {
          "base_uri": "https://localhost:8080/"
        },
        "id": "aMAgETjLpqKL",
        "outputId": "c01e0a57-75c3-43c4-ec72-d70c83e3f2bf"
      },
      "execution_count": null,
      "outputs": [
        {
          "output_type": "stream",
          "name": "stdout",
          "text": [
            "7.7\n"
          ]
        }
      ]
    },
    {
      "cell_type": "code",
      "source": [
        "print(True)"
      ],
      "metadata": {
        "colab": {
          "base_uri": "https://localhost:8080/"
        },
        "id": "Uo5twTJfpwK1",
        "outputId": "6dc2970a-585d-4e51-9a70-a7bd29f7731a"
      },
      "execution_count": null,
      "outputs": [
        {
          "output_type": "stream",
          "name": "stdout",
          "text": [
            "True\n"
          ]
        }
      ]
    },
    {
      "cell_type": "code",
      "source": [
        "print('Hello', 1, 4.5, True)"
      ],
      "metadata": {
        "colab": {
          "base_uri": "https://localhost:8080/"
        },
        "id": "Xg9uvXr9pzIG",
        "outputId": "1fe527c6-3ed9-40c6-c849-5ba21c09b858"
      },
      "execution_count": null,
      "outputs": [
        {
          "output_type": "stream",
          "name": "stdout",
          "text": [
            "Hello 1 4.5 True\n"
          ]
        }
      ]
    },
    {
      "cell_type": "code",
      "source": [
        "# print(value, ..., sep=' ', end='\\n', file=sys.stdout, flush=False)\n",
        "# Default behaviour of sep=' '        --> We can change accordingly\n",
        "print('Hello', 1, 4.5, True, sep='/')\n"
      ],
      "metadata": {
        "colab": {
          "base_uri": "https://localhost:8080/"
        },
        "id": "cogC50eAqG-O",
        "outputId": "a07fbdea-5c65-4846-fca3-a2be9d3ba6e4"
      },
      "execution_count": null,
      "outputs": [
        {
          "output_type": "stream",
          "name": "stdout",
          "text": [
            "Hello/1/4.5/True\n"
          ]
        }
      ]
    },
    {
      "cell_type": "code",
      "source": [
        "print('Hello')\n",
        "print('World')"
      ],
      "metadata": {
        "colab": {
          "base_uri": "https://localhost:8080/"
        },
        "id": "apNsiBt3qsxx",
        "outputId": "86c8fbf4-e3b5-4fe2-b785-5fdc8f7ae87f"
      },
      "execution_count": null,
      "outputs": [
        {
          "output_type": "stream",
          "name": "stdout",
          "text": [
            "Hello\n",
            "World\n"
          ]
        }
      ]
    },
    {
      "cell_type": "code",
      "source": [
        "# print(value, ..., sep=' ', end='\\n', file=sys.stdout, flush=False)\n",
        "# Default behaviour of end='\\n'        --> We can change accordingly\n",
        "print('Hello', end='-')\n",
        "print('World')"
      ],
      "metadata": {
        "colab": {
          "base_uri": "https://localhost:8080/"
        },
        "id": "y8jEQtedq0i0",
        "outputId": "571ab9d2-d443-4b39-deae-0f48ca482961"
      },
      "execution_count": null,
      "outputs": [
        {
          "output_type": "stream",
          "name": "stdout",
          "text": [
            "Hello-World\n"
          ]
        }
      ]
    },
    {
      "cell_type": "markdown",
      "source": [
        "# **2. Data Types**"
      ],
      "metadata": {
        "id": "VyzeNQVDsTUK"
      }
    },
    {
      "cell_type": "code",
      "source": [
        "# Integer -- Positive and Negative Both\n",
        "print(8)\n",
        "\n",
        "# 1 * 10^308\n",
        "print(1e308)"
      ],
      "metadata": {
        "colab": {
          "base_uri": "https://localhost:8080/"
        },
        "id": "rn8U3GNpsjZu",
        "outputId": "b285dd90-a3d3-49cb-8011-66497785df22"
      },
      "execution_count": null,
      "outputs": [
        {
          "output_type": "stream",
          "name": "stdout",
          "text": [
            "8\n",
            "1e+308\n"
          ]
        }
      ]
    },
    {
      "cell_type": "code",
      "source": [
        "#Decimal/Float\n",
        "print(8.55)\n",
        "\n",
        "# Max handle in Decimal/Float Values\n",
        "print(1.7e308)"
      ],
      "metadata": {
        "colab": {
          "base_uri": "https://localhost:8080/"
        },
        "id": "_xlw6Q3jtRKR",
        "outputId": "23275719-b5bd-4a0e-f2a4-76efdad455f4"
      },
      "execution_count": null,
      "outputs": [
        {
          "output_type": "stream",
          "name": "stdout",
          "text": [
            "8.55\n",
            "1.7e+308\n"
          ]
        }
      ]
    },
    {
      "cell_type": "code",
      "source": [
        "# Boolean - True/False (Used for Logic Building)\n",
        "print(True)\n",
        "print(False)"
      ],
      "metadata": {
        "colab": {
          "base_uri": "https://localhost:8080/"
        },
        "id": "YKzK26DCtoE0",
        "outputId": "d54d32a3-b798-4ed0-b3f8-7e39555da715"
      },
      "execution_count": null,
      "outputs": [
        {
          "output_type": "stream",
          "name": "stdout",
          "text": [
            "True\n",
            "False\n"
          ]
        }
      ]
    },
    {
      "cell_type": "code",
      "source": [
        "# Text/String (Note: There is no char in Python)\n",
        "print('Hello World')"
      ],
      "metadata": {
        "colab": {
          "base_uri": "https://localhost:8080/"
        },
        "id": "np7yZBkotxBF",
        "outputId": "6abb1ef1-0f78-43b7-f3fa-452313fc9249"
      },
      "execution_count": null,
      "outputs": [
        {
          "output_type": "stream",
          "name": "stdout",
          "text": [
            "Hello World\n"
          ]
        }
      ]
    },
    {
      "cell_type": "code",
      "source": [
        "# Complex\n",
        "print(5+6j)"
      ],
      "metadata": {
        "colab": {
          "base_uri": "https://localhost:8080/"
        },
        "id": "fFYD5yNNt8Sb",
        "outputId": "7534433f-c6bf-40e9-c305-7bf5ad8be9c4"
      },
      "execution_count": null,
      "outputs": [
        {
          "output_type": "stream",
          "name": "stdout",
          "text": [
            "(5+6j)\n"
          ]
        }
      ]
    },
    {
      "cell_type": "code",
      "source": [
        "# List -> C -> Array Here List in Python\n",
        "print([1,2,3,4,5])"
      ],
      "metadata": {
        "colab": {
          "base_uri": "https://localhost:8080/"
        },
        "id": "3L6G0BReuB7Z",
        "outputId": "555d86af-6af7-45df-b48a-88e560cfe4d0"
      },
      "execution_count": null,
      "outputs": [
        {
          "output_type": "stream",
          "name": "stdout",
          "text": [
            "[1, 2, 3, 4, 5]\n"
          ]
        }
      ]
    },
    {
      "cell_type": "code",
      "source": [
        "# Tuple   (-> Sibling Called \"Tuple\")\n",
        "print((1,2,3,4,5))"
      ],
      "metadata": {
        "colab": {
          "base_uri": "https://localhost:8080/"
        },
        "id": "u_E0JmhKuNkz",
        "outputId": "0c3fe747-0a38-4c28-ed30-fc289ad17b42"
      },
      "execution_count": null,
      "outputs": [
        {
          "output_type": "stream",
          "name": "stdout",
          "text": [
            "(1, 2, 3, 4, 5)\n"
          ]
        }
      ]
    },
    {
      "cell_type": "code",
      "source": [
        "# Sets\n",
        "print({1,2,3,4,5})"
      ],
      "metadata": {
        "colab": {
          "base_uri": "https://localhost:8080/"
        },
        "id": "Uwj88_i-uWYR",
        "outputId": "dc538728-4698-445b-cc45-84530428fd41"
      },
      "execution_count": null,
      "outputs": [
        {
          "output_type": "stream",
          "name": "stdout",
          "text": [
            "{1, 2, 3, 4, 5}\n"
          ]
        }
      ]
    },
    {
      "cell_type": "code",
      "source": [
        "# Dictionary -> Same as Sets but It is in Pairs (Keys & Values)\n",
        "print({'Name':'Bijay', 'Gender':'Male', 'Age':22})"
      ],
      "metadata": {
        "colab": {
          "base_uri": "https://localhost:8080/"
        },
        "id": "ad-u4Kgxub0J",
        "outputId": "628a5336-7f14-4e23-f136-71eecbafc12f"
      },
      "execution_count": null,
      "outputs": [
        {
          "output_type": "stream",
          "name": "stdout",
          "text": [
            "{'Name': 'Bijay', 'Gender': 'Male', 'Age': 22}\n"
          ]
        }
      ]
    },
    {
      "cell_type": "code",
      "source": [
        "# ***** type-> It tells aboiut which type of data is used\n",
        "type(2)\n",
        "type(3.5)\n",
        "type(3+6j)\n",
        "type((1,2,3,4,5))\n",
        "type({1,2,3,4,5})\n",
        "type([1,2,3,4,5])\n",
        "type({'Name':'Bijay'})"
      ],
      "metadata": {
        "colab": {
          "base_uri": "https://localhost:8080/"
        },
        "id": "-H02IUwkvzGY",
        "outputId": "a9d85ad8-750c-4887-c26c-ec9265be5eb0"
      },
      "execution_count": null,
      "outputs": [
        {
          "output_type": "execute_result",
          "data": {
            "text/plain": [
              "dict"
            ]
          },
          "metadata": {},
          "execution_count": 37
        }
      ]
    },
    {
      "cell_type": "markdown",
      "source": [
        "# **3. Variables**"
      ],
      "metadata": {
        "id": "1Z1D4KT5wXZN"
      }
    },
    {
      "cell_type": "code",
      "source": [
        "# Variables are containers where we store any information\n",
        "# They are containers for future use\n",
        "\n",
        "# Static Vs Dynamic Typing\n",
        "# Static Vs Dynamic Binding\n",
        "# Stylish Declaration Techniques"
      ],
      "metadata": {
        "id": "33-7NJcEw0f6"
      },
      "execution_count": null,
      "outputs": []
    },
    {
      "cell_type": "code",
      "source": [
        "# C/C++\n",
        "# Note: In Python, we don't have to tell about data types for declaring variables\n",
        "# X int name = 'BIJAY' X\n",
        "name = 'Bijay'\n",
        "\n",
        "a=5\n",
        "b=6\n",
        "\n",
        "print(name)\n",
        "print(a + b)"
      ],
      "metadata": {
        "colab": {
          "base_uri": "https://localhost:8080/"
        },
        "id": "36RBptK1xWZG",
        "outputId": "a890dafe-479e-40b0-cf65-55966264538f"
      },
      "execution_count": null,
      "outputs": [
        {
          "output_type": "stream",
          "name": "stdout",
          "text": [
            "Bijay\n",
            "11\n"
          ]
        }
      ]
    },
    {
      "cell_type": "code",
      "source": [
        "# Interview Question\n",
        "# Dynammic Typing\n",
        "# We don't have to declare data types--> Interpreter is that much intelligent in\n",
        "# Python It detect from the numbers & Values ownslef\n",
        "# That's called Dynamic Typing\n",
        "# Python Supports - Dynamic Typing\n",
        "# C/C++ - Supports Static Typing\n",
        "\n",
        "a = 5\n",
        "b = 7\n",
        "print(a + b)\n"
      ],
      "metadata": {
        "id": "QSCqnWu_yooV",
        "colab": {
          "base_uri": "https://localhost:8080/"
        },
        "outputId": "27276118-1c00-4b95-dc0c-99c6f9435725"
      },
      "execution_count": 42,
      "outputs": [
        {
          "output_type": "stream",
          "name": "stdout",
          "text": [
            "12\n"
          ]
        }
      ]
    },
    {
      "cell_type": "code",
      "source": [
        "# Dynamic Binding\n",
        "# There is no fixed data types in Python\n",
        "# That is called Dynamic Binding\n",
        "a = 5\n",
        "print(a)\n",
        "\n",
        "a = 'Bijay'\n",
        "print(a)"
      ],
      "metadata": {
        "colab": {
          "base_uri": "https://localhost:8080/"
        },
        "id": "-a9Btpkn2lWa",
        "outputId": "60d1ae22-6415-44ef-f58e-ae4351e33372"
      },
      "execution_count": 43,
      "outputs": [
        {
          "output_type": "stream",
          "name": "stdout",
          "text": [
            "5\n",
            "Bijay\n"
          ]
        }
      ]
    },
    {
      "cell_type": "code",
      "source": [
        "# Static Binding\n",
        "# C/C++/Java supports Static Binding\n",
        "# Once you declare the value you can't change\n",
        "\n",
        "# Example:\n",
        "# int a = 5;\n",
        "# printf(a)\n",
        "\n",
        "# Next time you can't change the value of a like\n",
        "# string a = 'Bijay'\n",
        "# print(a)\n",
        "\n",
        "# This can't be allowed"
      ],
      "metadata": {
        "id": "XwiSQO23291_"
      },
      "execution_count": 41,
      "outputs": []
    },
    {
      "cell_type": "code",
      "source": [
        "# Stylish Declaration Techniques (This is not --> Below one is the answer)\n",
        "a = 1\n",
        "b = 2\n",
        "c = 3\n",
        "print(a , b , c)"
      ],
      "metadata": {
        "colab": {
          "base_uri": "https://localhost:8080/"
        },
        "id": "8WgenY1o3pzD",
        "outputId": "bb507cbe-97fb-4bc1-f8c8-d3aea12822db"
      },
      "execution_count": 50,
      "outputs": [
        {
          "output_type": "stream",
          "name": "stdout",
          "text": [
            "1 2 3\n"
          ]
        }
      ]
    },
    {
      "cell_type": "code",
      "source": [
        "# Stylish Declaration Techniques\n",
        "a,b,c = 1,2,3\n",
        "print(a,b,c)"
      ],
      "metadata": {
        "colab": {
          "base_uri": "https://localhost:8080/"
        },
        "id": "eyxCdyV5360A",
        "outputId": "3406aa42-8c8b-4036-8e3b-91742b33a951"
      },
      "execution_count": 51,
      "outputs": [
        {
          "output_type": "stream",
          "name": "stdout",
          "text": [
            "1 2 3\n"
          ]
        }
      ]
    },
    {
      "cell_type": "code",
      "source": [
        "# Stylish Declaration Techniques\n",
        "a=b=c=5\n",
        "print(a,b,c)"
      ],
      "metadata": {
        "colab": {
          "base_uri": "https://localhost:8080/"
        },
        "id": "lPzoFVYj4ad8",
        "outputId": "efb70214-7839-468b-f66b-5a2ec9757818"
      },
      "execution_count": 49,
      "outputs": [
        {
          "output_type": "stream",
          "name": "stdout",
          "text": [
            "5 5 5\n"
          ]
        }
      ]
    },
    {
      "cell_type": "code",
      "source": [
        "# Code Snippet -> 2-3 lines of code"
      ],
      "metadata": {
        "id": "cUr-fHwg472p"
      },
      "execution_count": 52,
      "outputs": []
    },
    {
      "cell_type": "markdown",
      "source": [
        "# Comments"
      ],
      "metadata": {
        "id": "U5V7E72y5wQZ"
      }
    },
    {
      "cell_type": "code",
      "source": [
        "# Python Interpreter Ignores the comment\n",
        "# It is useful for knowing what you have written in Code\n",
        "# Must use in comments\n",
        "a = 5\n",
        "b = 6\n",
        "\n",
        "print(a + b)"
      ],
      "metadata": {
        "colab": {
          "base_uri": "https://localhost:8080/"
        },
        "id": "JWZdberG5uAB",
        "outputId": "63e05535-dce5-47c6-907e-02336d439dbc"
      },
      "execution_count": 55,
      "outputs": [
        {
          "output_type": "stream",
          "name": "stdout",
          "text": [
            "11\n"
          ]
        }
      ]
    },
    {
      "cell_type": "markdown",
      "source": [
        "# **4. Keywords & Identifiers**"
      ],
      "metadata": {
        "id": "9b-839ow5hFw"
      }
    },
    {
      "cell_type": "code",
      "source": [
        "# Compilation means where you convert your code into binary numbers\n",
        "# It can be done by compiler & Interpreter"
      ],
      "metadata": {
        "id": "WzTegMic5lfa"
      },
      "execution_count": 58,
      "outputs": []
    },
    {
      "cell_type": "code",
      "source": [
        "# Keywords\n",
        "# In python - 32 Keywords\n",
        "# Don't use these keywords as variable\n",
        "# Conflict occurs"
      ],
      "metadata": {
        "id": "GWjXY5Js7DE5"
      },
      "execution_count": 59,
      "outputs": []
    },
    {
      "cell_type": "code",
      "source": [
        "# Identifiers\n",
        "# Rule 1: You can start with digit\n",
        "name1 = 'Bijay'\n",
        "print(name)\n",
        "\n",
        "# Rule 2: You can use upper case, lower case & in special character you can use only ( Underscore _ )\n",
        "_ = 'Bijay'\n",
        "print(_)\n",
        "\n",
        "# Rule 3: Identifiers can't be keyword\n",
        "# else = 'Bijay'\n",
        "# print(else)"
      ],
      "metadata": {
        "colab": {
          "base_uri": "https://localhost:8080/"
        },
        "id": "yaK6w2esBSrE",
        "outputId": "590e5466-e3a5-42f2-963e-b04869a2f17e"
      },
      "execution_count": 62,
      "outputs": [
        {
          "output_type": "stream",
          "name": "stdout",
          "text": [
            "Bijay\n",
            "Bijay\n"
          ]
        }
      ]
    },
    {
      "cell_type": "markdown",
      "source": [
        "# **5. User Input**"
      ],
      "metadata": {
        "id": "5WXzaHApCMI8"
      }
    },
    {
      "cell_type": "code",
      "source": [
        "# There are only Static Software &  Dynamic Software\n",
        "# Static S/w ; seeing calender, watch, only information but you can't interact\n",
        "# Dynamic s/w ; User talk, take input, booking a cab, watching youtube\n"
      ],
      "metadata": {
        "id": "HxyUz4iGCSAc"
      },
      "execution_count": null,
      "outputs": []
    },
    {
      "cell_type": "code",
      "source": [
        "# built-in function\n",
        "input('Enter Email ')"
      ],
      "metadata": {
        "colab": {
          "base_uri": "https://localhost:8080/",
          "height": 54
        },
        "id": "2VcsucKxC7Qh",
        "outputId": "59213076-52af-4239-9524-d7c5b2b1cc43"
      },
      "execution_count": 67,
      "outputs": [
        {
          "name": "stdout",
          "output_type": "stream",
          "text": [
            "Enter Email bijayrauniyar90@gmail.com\n"
          ]
        },
        {
          "output_type": "execute_result",
          "data": {
            "text/plain": [
              "'bijayrauniyar90@gmail.com'"
            ],
            "application/vnd.google.colaboratory.intrinsic+json": {
              "type": "string"
            }
          },
          "metadata": {},
          "execution_count": 67
        }
      ]
    },
    {
      "cell_type": "code",
      "source": [
        "# take input from user and store them in a variable\n",
        "fnum = input('Enter first numbers ')\n",
        "snum = input('Enter second number ')\n",
        "print(type(fnum), type(snum))\n",
        "\n",
        "# Universal data format is String so string type is there\n",
        "\n",
        "# add the 2 variables\n",
        "result = fnum + snum\n",
        "\n",
        "# print the result\n",
        "print(result)"
      ],
      "metadata": {
        "colab": {
          "base_uri": "https://localhost:8080/"
        },
        "id": "9dM1CyszDc_V",
        "outputId": "3d9f5dfe-764d-43b7-f4e3-2e504b4070b5"
      },
      "execution_count": 72,
      "outputs": [
        {
          "output_type": "stream",
          "name": "stdout",
          "text": [
            "Enter first numbers 45\n",
            "Enter second number 54\n",
            "<class 'str'> <class 'str'>\n",
            "4554\n"
          ]
        }
      ]
    },
    {
      "cell_type": "code",
      "source": [
        "# take input from user and store them in a variable\n",
        "fnum = input('Enter first numbers ')\n",
        "snum = input('Enter second number ')\n",
        "print(type(fnum), type(snum))\n",
        "\n",
        "# Universal data format is String so string type is there\n",
        "\n",
        "# add the 2 variables\n",
        "# Data type conversion\n",
        "result = int(fnum) + int(snum)\n",
        "# print the result\n",
        "print(result)\n",
        "print(type(fnum))"
      ],
      "metadata": {
        "colab": {
          "base_uri": "https://localhost:8080/"
        },
        "id": "7rAk7mjCHfXY",
        "outputId": "eac87d32-9bf7-4a42-9c72-2d65f6833970"
      },
      "execution_count": 88,
      "outputs": [
        {
          "output_type": "stream",
          "name": "stdout",
          "text": [
            "Enter first numbers 32\n",
            "Enter second number 33\n",
            "<class 'str'> <class 'str'>\n",
            "65\n",
            "<class 'str'>\n"
          ]
        }
      ]
    },
    {
      "cell_type": "code",
      "source": [
        "# take input from user and store them in a variable\n",
        "fnum = int(input('Enter first numbers '))\n",
        "snum = int(input('Enter second number '))\n",
        "print(type(fnum), type(snum))\n",
        "\n",
        "# add the 2 variables\n",
        "result = fnum + snum\n",
        "\n",
        "# print the result\n",
        "print(result)\n",
        "print(type(fnum))"
      ],
      "metadata": {
        "colab": {
          "base_uri": "https://localhost:8080/"
        },
        "id": "1HstPAuzI7ZE",
        "outputId": "cbb744f6-3a6f-4945-dc83-8cd13db881de"
      },
      "execution_count": 89,
      "outputs": [
        {
          "output_type": "stream",
          "name": "stdout",
          "text": [
            "Enter first numbers 45\n",
            "Enter second number 55\n",
            "<class 'int'> <class 'int'>\n",
            "100\n",
            "<class 'int'>\n"
          ]
        }
      ]
    },
    {
      "cell_type": "markdown",
      "source": [
        "# **6. Type Conversion**"
      ],
      "metadata": {
        "id": "6sgQZ0jtErf_"
      }
    },
    {
      "cell_type": "code",
      "source": [
        "# Implicit Vs Explicit\n",
        "\n",
        "#Imlicit Example --> Automatically done by Interpreter.\n",
        "# Programmer don't have to write the code\n",
        "# There is one int and another one is float-->\n",
        "# It doesn't work but python is enough intelligent so it write without any error\n",
        "print(5 + 5.6)\n",
        "print(type(5), type(5.6))"
      ],
      "metadata": {
        "colab": {
          "base_uri": "https://localhost:8080/"
        },
        "id": "BIUa0IYMFHmQ",
        "outputId": "d427e2de-3df5-43fb-92a6-976a7cca2b86"
      },
      "execution_count": 74,
      "outputs": [
        {
          "output_type": "stream",
          "name": "stdout",
          "text": [
            "10.6\n",
            "<class 'int'> <class 'float'>\n"
          ]
        }
      ]
    },
    {
      "cell_type": "code",
      "source": [
        "# Explicit Type Conversion\n",
        "# Explict is done by requestion by programmer to python\n",
        "# for changing the data types\n",
        "\n",
        "# Explicit\n",
        "# str -> int\n",
        "type(int('45'))\n",
        "\n",
        "# type(int(4+6j)) --> Complex number can't be type conversed because it can loss the information\n",
        "# Python can't allow information loss\n",
        "\n",
        "\n",
        "# int to str\n",
        "str(5)\n",
        "\n",
        "# float\n",
        "float(4)"
      ],
      "metadata": {
        "colab": {
          "base_uri": "https://localhost:8080/"
        },
        "id": "dc_5hdZJFWpI",
        "outputId": "dae45355-c958-4c5c-923b-428c06ed4768"
      },
      "execution_count": 85,
      "outputs": [
        {
          "output_type": "execute_result",
          "data": {
            "text/plain": [
              "4.0"
            ]
          },
          "metadata": {},
          "execution_count": 85
        }
      ]
    },
    {
      "cell_type": "code",
      "source": [
        "# Note ----- Important\n",
        "# Type conversion can't be applied on original value\n",
        "# During type conversion it is applied on new value\n",
        "# It assumes as new so previous data type can't be changed\n",
        "\n",
        "# from one data type to another data type\n",
        "# Original will remain same\n",
        "# Perform action on new data type only"
      ],
      "metadata": {
        "id": "t26WXYYOIVT0"
      },
      "execution_count": null,
      "outputs": []
    },
    {
      "cell_type": "markdown",
      "source": [
        "# **7. Literals**"
      ],
      "metadata": {
        "id": "oBOn6B1SJaOg"
      }
    },
    {
      "cell_type": "code",
      "source": [
        "# Value is the literals\n",
        "# Binary Literals\n",
        "a = 0b1010\n",
        "print(a)\n",
        "\n",
        "# Decimal Literals\n",
        "b = 100\n",
        "print(b)\n",
        "\n",
        "# Octal Literals\n",
        "c = 0o310\n",
        "print(c)\n",
        "\n",
        "# Hexadecimal Literals\n",
        "d = 0x12c\n",
        "print(d)\n",
        "\n",
        "# Float Literals\n",
        "float_1 = 10.5\n",
        "print(float_1)\n",
        "\n",
        "float_2 = 1.5e2 # 1.5 * 10^2\n",
        "print(float_2)\n",
        "\n",
        "float_3 = 1.5e-3 # 1.5 * 10^-3\n",
        "print(float_3)\n",
        "\n",
        "# Complex Literals\n",
        "x = 3.14j\n",
        "print(x.real, x.imag)\n",
        "\n"
      ],
      "metadata": {
        "colab": {
          "base_uri": "https://localhost:8080/"
        },
        "id": "kY00rQ3UJd1Y",
        "outputId": "b7de0163-2b81-4949-946d-ff2ea8047318"
      },
      "execution_count": 96,
      "outputs": [
        {
          "output_type": "stream",
          "name": "stdout",
          "text": [
            "10\n",
            "100\n",
            "200\n",
            "300\n",
            "10.5\n",
            "150.0\n",
            "0.0015\n",
            "0.0 3.14\n"
          ]
        }
      ]
    },
    {
      "cell_type": "code",
      "source": [
        "# String Literals\n",
        "string = 'This is Python'\n",
        "strings = \"This is Python\"\n",
        "char = \"C\"\n",
        "multiline_str = \"\"\"This is a multiline string with more than one line code\"\"\"\n",
        "unicode = u\"\\U0001f600\\U0001F606\\U0001F923\"\n",
        "raw_str = r\"raw \\n string\"\n",
        "\n",
        "print(string)\n",
        "print(strings)\n",
        "print(char)\n",
        "print(multiline_str)\n",
        "print(unicode)\n",
        "print(raw_str)\n"
      ],
      "metadata": {
        "colab": {
          "base_uri": "https://localhost:8080/"
        },
        "id": "gX3if1g9K8Vz",
        "outputId": "8861f9f4-ad63-466f-dcc4-a4a77dc566b9"
      },
      "execution_count": 97,
      "outputs": [
        {
          "output_type": "stream",
          "name": "stdout",
          "text": [
            "This is Python\n",
            "This is Python\n",
            "C\n",
            "This is a multiline string with more than one line code\n",
            "😀😆🤣\n",
            "raw \\n string\n"
          ]
        }
      ]
    },
    {
      "cell_type": "code",
      "source": [
        "# Boolean Literals\n",
        "# True will take 1 value\n",
        "# False will take 0 value\n",
        "a = True + 4\n",
        "b = False + 10\n",
        "\n",
        "print(\"a:\",a)\n",
        "print(\"b:\", b)"
      ],
      "metadata": {
        "colab": {
          "base_uri": "https://localhost:8080/"
        },
        "id": "X1k9uEU5L2WP",
        "outputId": "992305e4-9ae8-4205-b100-7e3db1128a44"
      },
      "execution_count": 99,
      "outputs": [
        {
          "output_type": "stream",
          "name": "stdout",
          "text": [
            "a: 5\n",
            "b: 10\n"
          ]
        }
      ]
    },
    {
      "cell_type": "code",
      "source": [
        "# None Literals\n",
        "# None is used for future so I can't show error\n",
        "# It's used for logic building\n",
        "a = None\n",
        "print(a)"
      ],
      "metadata": {
        "colab": {
          "base_uri": "https://localhost:8080/"
        },
        "id": "gfbVsLBUMJch",
        "outputId": "071a168f-3ab5-4850-83d0-fa4f26e8eea7"
      },
      "execution_count": 101,
      "outputs": [
        {
          "output_type": "stream",
          "name": "stdout",
          "text": [
            "None\n"
          ]
        }
      ]
    },
    {
      "cell_type": "code",
      "source": [
        "# In type casting permanent changes occurs and\n",
        "# In type conversion temporary changes occurs"
      ],
      "metadata": {
        "id": "iWLm70_oMy3V"
      },
      "execution_count": 102,
      "outputs": []
    }
  ]
}