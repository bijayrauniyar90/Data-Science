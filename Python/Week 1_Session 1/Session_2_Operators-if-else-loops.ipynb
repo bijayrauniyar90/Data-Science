{
  "cells": [
    {
      "cell_type": "markdown",
      "source": [
        "# Operators in Python\n",
        "\n",
        "Arithemetic Operators\n",
        "Relational Operators\n",
        "Logical Operators\n",
        "Bitwise Operators\n",
        "Assignmemnt Operators\n",
        "Membership Operators\n",
        "\n"
      ],
      "metadata": {
        "id": "gDkZ7MI9h3d6"
      }
    },
    {
      "cell_type": "code",
      "source": [],
      "metadata": {
        "id": "fR2kchT_iCyC"
      },
      "execution_count": null,
      "outputs": []
    }
  ],
  "metadata": {
    "colab": {
      "provenance": []
    },
    "kernelspec": {
      "display_name": "Python 3",
      "name": "python3"
    }
  },
  "nbformat": 4,
  "nbformat_minor": 0
}