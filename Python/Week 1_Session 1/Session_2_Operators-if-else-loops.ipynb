{
  "cells": [
    {
      "cell_type": "markdown",
      "source": [
        "# Operators in Python\n",
        "\n",
        "* Arithemetic Operators\n",
        "* Relational Operators\n",
        "* Logical Operators\n",
        "* Bitwise Operators\n",
        "* Assignmemnt Operators\n",
        "* Membership Operators\n",
        "\n"
      ],
      "metadata": {
        "id": "gDkZ7MI9h3d6"
      }
    },
    {
      "cell_type": "code",
      "source": [
        "# Arithemetic Operators\n",
        "print(5 + 6)\n",
        "\n",
        "print(5 - 6)\n",
        "\n",
        "print(5 * 6)\n",
        "\n",
        "print(5 / 2)\n",
        "\n",
        "# It will give integer value only\n",
        "print(5 // 2)\n",
        "\n",
        "# modulus operator - It will give remainder\n",
        "print(5 % 2)\n",
        "\n",
        "# Power of operator\n",
        "# 5^2\n",
        "print(5 ** 2)"
      ],
      "metadata": {
        "colab": {
          "base_uri": "https://localhost:8080/"
        },
        "id": "fR2kchT_iCyC",
        "outputId": "ae710d1a-64cf-466f-88ee-10381c0b4cc0"
      },
      "execution_count": 3,
      "outputs": [
        {
          "output_type": "stream",
          "name": "stdout",
          "text": [
            "11\n",
            "-1\n",
            "30\n",
            "2.5\n",
            "2\n",
            "1\n",
            "25\n"
          ]
        }
      ]
    },
    {
      "cell_type": "code",
      "source": [
        "# Relational Operators\n",
        "print(4>5)\n",
        "\n",
        "print(4<5)\n",
        "\n",
        "print(4>=4)\n",
        "\n",
        "print(4<=4)\n",
        "\n",
        "print(4==4)\n",
        "\n",
        "print(4!=4)"
      ],
      "metadata": {
        "colab": {
          "base_uri": "https://localhost:8080/"
        },
        "id": "5qXd5RD2nU64",
        "outputId": "769c4f14-cd5d-4498-96f9-1eb197dcabf7"
      },
      "execution_count": 4,
      "outputs": [
        {
          "output_type": "stream",
          "name": "stdout",
          "text": [
            "False\n",
            "True\n",
            "True\n",
            "True\n",
            "True\n",
            "False\n"
          ]
        }
      ]
    },
    {
      "cell_type": "code",
      "source": [
        "# Logocal Operators\n",
        "\n",
        "print(1 and 0)\n",
        "\n",
        "print(1 or 0)\n",
        "\n",
        "print(not 1)"
      ],
      "metadata": {
        "colab": {
          "base_uri": "https://localhost:8080/"
        },
        "id": "Ok15zyJ2nnsL",
        "outputId": "7779c9fa-10b0-4875-893e-7110228ec366"
      },
      "execution_count": 5,
      "outputs": [
        {
          "output_type": "stream",
          "name": "stdout",
          "text": [
            "0\n",
            "1\n",
            "False\n"
          ]
        }
      ]
    },
    {
      "cell_type": "code",
      "source": [
        "# Bitwise Operators\n",
        "# Bitwise AND , OR, NOR, XOR, Shift\n",
        "\n",
        "# Bitwise and\n",
        "print(2 & 3)"
      ],
      "metadata": {
        "colab": {
          "base_uri": "https://localhost:8080/"
        },
        "id": "t7HDCVTLn1di",
        "outputId": "611c9d1d-1911-4119-dcf3-4dd7e15beaeb"
      },
      "execution_count": 6,
      "outputs": [
        {
          "output_type": "stream",
          "name": "stdout",
          "text": [
            "2\n"
          ]
        }
      ]
    }
  ],
  "metadata": {
    "colab": {
      "provenance": []
    },
    "kernelspec": {
      "display_name": "Python 3",
      "name": "python3"
    }
  },
  "nbformat": 4,
  "nbformat_minor": 0
}