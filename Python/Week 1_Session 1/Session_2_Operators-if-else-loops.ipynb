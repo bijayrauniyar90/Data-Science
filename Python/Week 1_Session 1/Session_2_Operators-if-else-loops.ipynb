{
  "cells": [
    {
      "cell_type": "markdown",
      "source": [
        "# Operators in Python\n",
        "\n",
        "* Arithemetic Operators\n",
        "* Relational Operators\n",
        "* Logical Operators\n",
        "* Bitwise Operators\n",
        "* Assignmemnt Operators\n",
        "* Membership Operators\n",
        "\n"
      ],
      "metadata": {
        "id": "gDkZ7MI9h3d6"
      }
    },
    {
      "cell_type": "markdown",
      "source": [
        "# Arithemetic Operators"
      ],
      "metadata": {
        "id": "V5Lw6vJQrkN7"
      }
    },
    {
      "cell_type": "code",
      "source": [
        "# Arithemetic Operators\n",
        "print(5 + 6)\n",
        "\n",
        "print(5 - 6)\n",
        "\n",
        "print(5 * 6)\n",
        "\n",
        "print(5 / 2)\n",
        "\n",
        "# It will give integer value only\n",
        "print(5 // 2)\n",
        "\n",
        "# modulus operator - It will give remainder\n",
        "print(5 % 2)\n",
        "\n",
        "# Power of operator\n",
        "# 5^2\n",
        "print(5 ** 2)"
      ],
      "metadata": {
        "colab": {
          "base_uri": "https://localhost:8080/"
        },
        "id": "fR2kchT_iCyC",
        "outputId": "ae710d1a-64cf-466f-88ee-10381c0b4cc0"
      },
      "execution_count": null,
      "outputs": [
        {
          "output_type": "stream",
          "name": "stdout",
          "text": [
            "11\n",
            "-1\n",
            "30\n",
            "2.5\n",
            "2\n",
            "1\n",
            "25\n"
          ]
        }
      ]
    },
    {
      "cell_type": "markdown",
      "source": [
        "# Relational Operators"
      ],
      "metadata": {
        "id": "53bVrysrrnxj"
      }
    },
    {
      "cell_type": "code",
      "source": [
        "# Relational Operators\n",
        "print(4>5)\n",
        "\n",
        "print(4<5)\n",
        "\n",
        "print(4>=4)\n",
        "\n",
        "print(4<=4)\n",
        "\n",
        "print(4==4)\n",
        "\n",
        "print(4!=4)"
      ],
      "metadata": {
        "colab": {
          "base_uri": "https://localhost:8080/"
        },
        "id": "5qXd5RD2nU64",
        "outputId": "769c4f14-cd5d-4498-96f9-1eb197dcabf7"
      },
      "execution_count": null,
      "outputs": [
        {
          "output_type": "stream",
          "name": "stdout",
          "text": [
            "False\n",
            "True\n",
            "True\n",
            "True\n",
            "True\n",
            "False\n"
          ]
        }
      ]
    },
    {
      "cell_type": "markdown",
      "source": [
        "# Logical Operators"
      ],
      "metadata": {
        "id": "qZfPsAfDrr1p"
      }
    },
    {
      "cell_type": "code",
      "source": [
        "# Logocal Operators\n",
        "\n",
        "print(1 and 0)\n",
        "\n",
        "print(1 or 0)\n",
        "\n",
        "print(not 1)"
      ],
      "metadata": {
        "colab": {
          "base_uri": "https://localhost:8080/"
        },
        "id": "Ok15zyJ2nnsL",
        "outputId": "7779c9fa-10b0-4875-893e-7110228ec366"
      },
      "execution_count": null,
      "outputs": [
        {
          "output_type": "stream",
          "name": "stdout",
          "text": [
            "0\n",
            "1\n",
            "False\n"
          ]
        }
      ]
    },
    {
      "cell_type": "markdown",
      "source": [
        "# Bitwise Operators"
      ],
      "metadata": {
        "id": "LEmvbrWpruNz"
      }
    },
    {
      "cell_type": "code",
      "source": [
        "# Bitwise Operators\n",
        "# Bitwise AND , OR, NOR, XOR, LShift, RShift\n",
        "\n",
        "# Bitwise and\n",
        "# 2 -> 010\n",
        "# 3 -> 011\n",
        "#     ------\n",
        "#      010\n",
        "#      =2\n",
        "print(2 & 3)\n",
        "\n",
        "# Bitwise or\n",
        "print(2 | 3)\n",
        "\n",
        "# Bitwise XOR\n",
        "# 2 -> 010\n",
        "# 3 -> 011\n",
        "#    ------\n",
        "#      001\n",
        "#       =1\n",
        "print(2 ^ 3)\n",
        "\n",
        "# Bitwise NOT\n",
        "print(~3)\n",
        "\n",
        "# Bitwise Left Shift\n",
        "print(4 >> 2)\n",
        "\n",
        "# Bitwise Right Shift\n",
        "print(5 >> 2)\n"
      ],
      "metadata": {
        "colab": {
          "base_uri": "https://localhost:8080/"
        },
        "id": "t7HDCVTLn1di",
        "outputId": "940ab89f-67a3-4b33-d5e8-236fc672653f"
      },
      "execution_count": null,
      "outputs": [
        {
          "output_type": "stream",
          "name": "stdout",
          "text": [
            "2\n",
            "3\n",
            "1\n",
            "-4\n",
            "1\n",
            "1\n"
          ]
        }
      ]
    },
    {
      "cell_type": "markdown",
      "source": [
        "# Assignmemnt Operators"
      ],
      "metadata": {
        "id": "yvlSqmbdr2HX"
      }
    },
    {
      "cell_type": "code",
      "source": [
        "# Assignment Operator\n",
        "# =\n",
        "\n",
        "# a = 2\n",
        "a = 2\n",
        "print(a)\n",
        "\n",
        "# a = a % 2\n",
        "a %= 2\n",
        "print(a)\n",
        "\n",
        "# This is not allowed -->  Due to ambuigty\n",
        "# a++ ++a --> Not allowed in Python"
      ],
      "metadata": {
        "colab": {
          "base_uri": "https://localhost:8080/"
        },
        "id": "WZMP7Iq7rOY3",
        "outputId": "0b659891-f2e1-4c9c-8127-8f9953a10c81"
      },
      "execution_count": null,
      "outputs": [
        {
          "output_type": "stream",
          "name": "stdout",
          "text": [
            "2\n",
            "0\n"
          ]
        }
      ]
    },
    {
      "cell_type": "markdown",
      "source": [
        "# Membership Operators"
      ],
      "metadata": {
        "id": "zqc7jDDrr5xq"
      }
    },
    {
      "cell_type": "code",
      "source": [
        "# Membership Operators\n",
        "# two types of operator are there --> in and not in\n",
        "\n",
        "# in\n",
        "print('D' in 'Delhi')\n",
        "print('B' in 'Bijay')\n",
        "\n",
        "# not in\n",
        "print('D' not in 'Delhi')\n",
        "print('B' not in 'Bijay')\n",
        "\n",
        "\n",
        "# Works in every Data Types_List, Set, Tuple, Dictionary\n",
        "print(1 in [2,3,4,5,6,7])\n",
        "\n",
        "print(1 in (1,2,3,4,5))\n"
      ],
      "metadata": {
        "colab": {
          "base_uri": "https://localhost:8080/"
        },
        "id": "llqUrB_Mr7cQ",
        "outputId": "16c3d0c9-c1d0-4fb7-8dbc-ed88d9e3d06a"
      },
      "execution_count": null,
      "outputs": [
        {
          "output_type": "stream",
          "name": "stdout",
          "text": [
            "True\n",
            "True\n",
            "False\n",
            "False\n",
            "False\n",
            "True\n"
          ]
        }
      ]
    },
    {
      "cell_type": "code",
      "source": [
        "# Program - Find The sum of a 3 digit number entered by the user\n",
        "\n",
        "# take input from user\n",
        "num= int(input('Enter three digit numbers:'))\n",
        "\n",
        "a=num%10\n",
        "num = num//10\n",
        "\n",
        "b=num%10\n",
        "num=num//10\n",
        "\n",
        "c=num%10\n",
        "num=num//10\n",
        "\n",
        "print(a+b+c)"
      ],
      "metadata": {
        "colab": {
          "base_uri": "https://localhost:8080/"
        },
        "id": "Gq6GvUiCugSt",
        "outputId": "a5920793-7d76-4c2d-92fc-9caf6f0ff2bc"
      },
      "execution_count": null,
      "outputs": [
        {
          "output_type": "stream",
          "name": "stdout",
          "text": [
            "Enter three digit numbers:567\n",
            "18\n"
          ]
        }
      ]
    },
    {
      "cell_type": "markdown",
      "source": [
        "# If-else in Python"
      ],
      "metadata": {
        "id": "WvaO04BtUA_0"
      }
    },
    {
      "cell_type": "code",
      "source": [
        "# login program and identification\n",
        "\n",
        "# We assue one email and password & write the program\n",
        "# email: bijayrauniyar90@gmail.com\n",
        "# password: aang\n",
        "\n",
        "email = input('Enter Email ')\n",
        "password = input('Enter password ')\n",
        "\n",
        "# if(condition){\n",
        "#     code\n",
        "# }\n",
        "\n",
        "# else{\n",
        "#     code\n",
        "# }\n",
        "\n",
        "# Well intentation code\n",
        "if email == 'bijayrauniyar90@gmail.com' and password == 'aang':\n",
        "  print('Welcome')\n",
        "\n",
        "else:\n",
        "  print('Not correct')"
      ],
      "metadata": {
        "id": "b6byWyiOwDqD",
        "colab": {
          "base_uri": "https://localhost:8080/"
        },
        "outputId": "a4f2dcb2-8216-4a16-b8e9-38b487a47530"
      },
      "execution_count": null,
      "outputs": [
        {
          "output_type": "stream",
          "name": "stdout",
          "text": [
            "Enter Email bijayrauniyar90@gmail.com\n",
            "Enter password aang\n",
            "Welcome\n"
          ]
        }
      ]
    },
    {
      "cell_type": "code",
      "source": [
        "# elif condition\n",
        "# Real Life Example\n",
        "\n",
        "email = input('Enter email address: ')\n",
        "password = input('Enter password: ')\n",
        "\n",
        "if email == 'bijayrauniyar90@gmail.com' and password == 'aand':\n",
        "  print('Welcome');\n",
        "\n",
        "elif email == 'bijayrauniyar90@gmail.com' and password !='aang':\n",
        "  print('Incorrect Password')\n",
        "  password=input('Enter password again!')\n",
        "\n",
        "  if password == 'aang':\n",
        "    print(\"Welcome, Finally\")\n",
        "  else:\n",
        "    print(\"Incorrect again:\")\n",
        "\n",
        "else:\n",
        "  print('Incorrect Credentials')\n",
        "\n"
      ],
      "metadata": {
        "colab": {
          "base_uri": "https://localhost:8080/"
        },
        "id": "qC96753zWXOu",
        "outputId": "2d9a2994-9409-403d-d71c-7f8e579715ea"
      },
      "execution_count": null,
      "outputs": [
        {
          "output_type": "stream",
          "name": "stdout",
          "text": [
            "Enter email address: bijayrauniyar90@gmail.com\n",
            "Enter password: aang12\n",
            "Incorrect Password\n",
            "Enter password again!aang\n",
            "Welcome, Finally\n"
          ]
        }
      ]
    },
    {
      "cell_type": "code",
      "source": [
        "# if-else Examples\n",
        "# 1. Find the min of 3 given numbers\n",
        "# 2. Menu Driven program"
      ],
      "metadata": {
        "id": "pbA4z_5Jcy_w"
      },
      "execution_count": null,
      "outputs": []
    },
    {
      "cell_type": "code",
      "source": [
        "# min of three numbers\n",
        "a = int(input('Enter first num: '))\n",
        "b = int(input('Enter second num: '))\n",
        "c = int(input('Enter third num: '))\n",
        "\n",
        "if a<b and a<c:\n",
        "  print('Smallest is ', a)\n",
        "\n",
        "elif b<c:\n",
        "  print('Smallest is ', b)\n",
        "\n",
        "else:\n",
        "  print('Smallest is ', c)"
      ],
      "metadata": {
        "colab": {
          "base_uri": "https://localhost:8080/"
        },
        "id": "0HShcjQlc-5d",
        "outputId": "29f9d998-83b5-443a-8617-b07a164cd2d8"
      },
      "execution_count": null,
      "outputs": [
        {
          "output_type": "stream",
          "name": "stdout",
          "text": [
            "Enter first num: 34\n",
            "Enter second num: 32\n",
            "Enter third num: 23\n",
            "Smallest is  23\n"
          ]
        }
      ]
    },
    {
      "cell_type": "code",
      "source": [
        "# Menu Driven Program\n",
        "# Example: Calculator\n",
        "\n",
        "fnum = int(input('Enter the first number: '))\n",
        "snum = int(input('Enter the second number: '))\n",
        "\n",
        "op = input('Enter the operation')\n",
        "\n",
        "if op == '+':\n",
        "  print(fnum + snum)\n",
        "\n",
        "\n",
        "elif op == '-':\n",
        "  print(fnum - snum)\n",
        "\n",
        "elif op == '*':\n",
        "  print(fnum * snum)\n",
        "\n",
        "else:\n",
        "  print(fnum / snum)"
      ],
      "metadata": {
        "colab": {
          "base_uri": "https://localhost:8080/"
        },
        "id": "EFyO-VSed4Qd",
        "outputId": "db702530-8f97-45cf-8c32-e9b9a08f31bf"
      },
      "execution_count": null,
      "outputs": [
        {
          "output_type": "stream",
          "name": "stdout",
          "text": [
            "Enter the first number: 65\n",
            "Enter the second number: 12\n",
            "Enter the operation-\n",
            "53\n"
          ]
        }
      ]
    },
    {
      "cell_type": "code",
      "source": [
        "# Menu Driven Program\n",
        "\n",
        "menu = input(\"\"\"\n",
        "Hi! How can I help you.\n",
        "1. Enter 1 for pin change\n",
        "2. Enter 2 for balance check\n",
        "3. Enter 3 for withdrawl\n",
        "4. Enter 4 for exit\n",
        "\"\"\")\n",
        "\n",
        "if menu == '1':\n",
        "  print('Pin change')\n",
        "\n",
        "elif menu == '2':\n",
        "  print('Balance Check')\n",
        "\n",
        "elif menu == '3':\n",
        "  print('Withdrawl Money')\n",
        "\n",
        "else:\n",
        "  print('Exit')"
      ],
      "metadata": {
        "colab": {
          "base_uri": "https://localhost:8080/"
        },
        "id": "h7q1UFrDe521",
        "outputId": "c7d56536-5e93-4891-a58a-11a044224882"
      },
      "execution_count": null,
      "outputs": [
        {
          "output_type": "stream",
          "name": "stdout",
          "text": [
            "\n",
            "Hi! How can I help you.\n",
            "1. Enter 1 for pin change\n",
            "2. Enter 2 for balance check\n",
            "3. Enter 3 for withdrawl\n",
            "4. Enter 4 for exit\n",
            "2\n",
            "Balance Check\n"
          ]
        }
      ]
    },
    {
      "cell_type": "markdown",
      "source": [
        "# Modules in Python\n",
        "* math\n",
        "* keywords\n",
        "* random\n",
        "* datetime\n",
        "\n",
        "Same like header and libraries in C/C++/Java\n",
        "Here it's called Modules in Python\n",
        "Modules is python files where we use the modules function\n",
        "Reuseability"
      ],
      "metadata": {
        "id": "CrCPZqfrgB9w"
      }
    },
    {
      "cell_type": "code",
      "source": [
        "# math\n",
        "import math\n",
        "\n",
        "math.factorial(5)\n",
        "math.floor(6.8)\n",
        "math.sqrt(196)"
      ],
      "metadata": {
        "colab": {
          "base_uri": "https://localhost:8080/"
        },
        "id": "YKG8e_FTgORL",
        "outputId": "e5eeef66-dea7-44ac-c44e-244c999f3b0d"
      },
      "execution_count": null,
      "outputs": [
        {
          "output_type": "execute_result",
          "data": {
            "text/plain": [
              "14.0"
            ]
          },
          "metadata": {},
          "execution_count": 16
        }
      ]
    },
    {
      "cell_type": "code",
      "source": [
        "# keywords\n",
        "import keyword\n",
        "print(keyword.kwlist)"
      ],
      "metadata": {
        "colab": {
          "base_uri": "https://localhost:8080/"
        },
        "id": "UDYInkNXgPnP",
        "outputId": "7ce678ff-71d1-44a2-c2a6-8f25ce4a4d73"
      },
      "execution_count": null,
      "outputs": [
        {
          "output_type": "stream",
          "name": "stdout",
          "text": [
            "['False', 'None', 'True', 'and', 'as', 'assert', 'async', 'await', 'break', 'class', 'continue', 'def', 'del', 'elif', 'else', 'except', 'finally', 'for', 'from', 'global', 'if', 'import', 'in', 'is', 'lambda', 'nonlocal', 'not', 'or', 'pass', 'raise', 'return', 'try', 'while', 'with', 'yield']\n"
          ]
        }
      ]
    },
    {
      "cell_type": "code",
      "source": [
        "# random\n",
        "# It is used for generating random number\n",
        "import random\n",
        "print(random.randint(1,100))"
      ],
      "metadata": {
        "colab": {
          "base_uri": "https://localhost:8080/"
        },
        "id": "hy_ajUTqghqf",
        "outputId": "a2f3eb6d-e84c-4fff-a383-53faa9ee975e"
      },
      "execution_count": null,
      "outputs": [
        {
          "output_type": "stream",
          "name": "stdout",
          "text": [
            "83\n"
          ]
        }
      ]
    },
    {
      "cell_type": "code",
      "source": [
        "# datetime\n",
        "\n",
        "import datetime\n",
        "print(datetime.datetime.now())\n"
      ],
      "metadata": {
        "colab": {
          "base_uri": "https://localhost:8080/"
        },
        "id": "m2uK08H_gS92",
        "outputId": "6cee6037-1377-42ba-fefe-16496233887e"
      },
      "execution_count": null,
      "outputs": [
        {
          "output_type": "stream",
          "name": "stdout",
          "text": [
            "2024-05-06 10:55:29.532837\n"
          ]
        }
      ]
    },
    {
      "cell_type": "code",
      "source": [
        "# To know How many modules are there in Python\n",
        "help('modules')"
      ],
      "metadata": {
        "id": "npkeBDeMjpio"
      },
      "execution_count": null,
      "outputs": []
    },
    {
      "cell_type": "markdown",
      "source": [
        "# Loops in Python\n",
        "* Need for Loops\n",
        "* While loop\n",
        "* for loop"
      ],
      "metadata": {
        "id": "aQ0HHqXRj0g-"
      }
    },
    {
      "cell_type": "markdown",
      "source": [
        "Need of Loops: Real Life Example\n",
        "For Example There is a website called Amazon when you search any smart phone there will be list of smartphone comes and display. You'll see same align and container for all the smartphone, So we can conclude there is used of loop.\n"
      ],
      "metadata": {
        "id": "Y7eJvyzdk-Bt"
      }
    },
    {
      "cell_type": "code",
      "source": [
        "# While loop example -> Program to print the table\n",
        "# Program -> Sum of all digits of a given number\n",
        "# program -> Keep accepting numbers from users till he/she enters 0 and find the averege"
      ],
      "metadata": {
        "id": "GYDGHgqPkBD0"
      },
      "execution_count": null,
      "outputs": []
    },
    {
      "cell_type": "code",
      "source": [
        "number = int(input('Enter the number: '))\n",
        "\n",
        "i = 1\n",
        "\n",
        "while i<11:\n",
        "  print(number, '*', i, '=', number * i)\n",
        "  i += 1"
      ],
      "metadata": {
        "colab": {
          "base_uri": "https://localhost:8080/",
          "height": 252
        },
        "id": "E6tfjQFVmbgU",
        "outputId": "a5b50fa3-1d6e-4423-c559-c45a5972d4f1"
      },
      "execution_count": 35,
      "outputs": [
        {
          "output_type": "stream",
          "name": "stderr",
          "text": [
            "/usr/local/lib/python3.10/dist-packages/ipykernel/ipkernel.py:283: DeprecationWarning: `should_run_async` will not call `transform_cell` automatically in the future. Please pass the result to `transformed_cell` argument and any exception that happen during thetransform in `preprocessing_exc_tuple` in IPython 7.17 and above.\n"
          ]
        },
        {
          "output_type": "display_data",
          "data": {
            "text/plain": [
              "<IPython.core.display.HTML object>"
            ],
            "text/html": [
              "\n",
              "            <style>\n",
              "                .geemap-dark {\n",
              "                    --jp-widgets-color: white;\n",
              "                    --jp-widgets-label-color: white;\n",
              "                    --jp-ui-font-color1: white;\n",
              "                    --jp-layout-color2: #454545;\n",
              "                    background-color: #383838;\n",
              "                }\n",
              "\n",
              "                .geemap-dark .jupyter-button {\n",
              "                    --jp-layout-color3: #383838;\n",
              "                }\n",
              "\n",
              "                .geemap-colab {\n",
              "                    background-color: var(--colab-primary-surface-color, white);\n",
              "                }\n",
              "\n",
              "                .geemap-colab .jupyter-button {\n",
              "                    --jp-layout-color3: var(--colab-primary-surface-color, white);\n",
              "                }\n",
              "            </style>\n",
              "            "
            ]
          },
          "metadata": {}
        },
        {
          "output_type": "stream",
          "name": "stdout",
          "text": [
            "Enter the number: 5\n",
            "5 * 1 = 5\n",
            "5 * 2 = 10\n",
            "5 * 3 = 15\n",
            "5 * 4 = 20\n",
            "5 * 5 = 25\n",
            "5 * 6 = 30\n",
            "5 * 7 = 35\n",
            "5 * 8 = 40\n",
            "5 * 9 = 45\n",
            "5 * 10 = 50\n"
          ]
        }
      ]
    },
    {
      "cell_type": "code",
      "source": [
        "# while loop with else"
      ],
      "metadata": {
        "id": "qe5nHJYXkReX"
      },
      "execution_count": null,
      "outputs": []
    }
  ],
  "metadata": {
    "colab": {
      "provenance": []
    },
    "kernelspec": {
      "display_name": "Python 3",
      "name": "python3"
    }
  },
  "nbformat": 4,
  "nbformat_minor": 0
}