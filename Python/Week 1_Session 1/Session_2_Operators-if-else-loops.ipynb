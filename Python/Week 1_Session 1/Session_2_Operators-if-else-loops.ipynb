{
  "cells": [
    {
      "cell_type": "markdown",
      "source": [
        "# Operators in Python\n",
        "\n",
        "* Arithemetic Operators\n",
        "* Relational Operators\n",
        "* Logical Operators\n",
        "* Bitwise Operators\n",
        "* Assignmemnt Operators\n",
        "* Membership Operators\n",
        "\n"
      ],
      "metadata": {
        "id": "gDkZ7MI9h3d6"
      }
    },
    {
      "cell_type": "markdown",
      "source": [
        "# Arithemetic Operators"
      ],
      "metadata": {
        "id": "V5Lw6vJQrkN7"
      }
    },
    {
      "cell_type": "code",
      "source": [
        "# Arithemetic Operators\n",
        "print(5 + 6)\n",
        "\n",
        "print(5 - 6)\n",
        "\n",
        "print(5 * 6)\n",
        "\n",
        "print(5 / 2)\n",
        "\n",
        "# It will give integer value only\n",
        "print(5 // 2)\n",
        "\n",
        "# modulus operator - It will give remainder\n",
        "print(5 % 2)\n",
        "\n",
        "# Power of operator\n",
        "# 5^2\n",
        "print(5 ** 2)"
      ],
      "metadata": {
        "colab": {
          "base_uri": "https://localhost:8080/"
        },
        "id": "fR2kchT_iCyC",
        "outputId": "ae710d1a-64cf-466f-88ee-10381c0b4cc0"
      },
      "execution_count": null,
      "outputs": [
        {
          "output_type": "stream",
          "name": "stdout",
          "text": [
            "11\n",
            "-1\n",
            "30\n",
            "2.5\n",
            "2\n",
            "1\n",
            "25\n"
          ]
        }
      ]
    },
    {
      "cell_type": "markdown",
      "source": [
        "# Relational Operators"
      ],
      "metadata": {
        "id": "53bVrysrrnxj"
      }
    },
    {
      "cell_type": "code",
      "source": [
        "# Relational Operators\n",
        "print(4>5)\n",
        "\n",
        "print(4<5)\n",
        "\n",
        "print(4>=4)\n",
        "\n",
        "print(4<=4)\n",
        "\n",
        "print(4==4)\n",
        "\n",
        "print(4!=4)"
      ],
      "metadata": {
        "colab": {
          "base_uri": "https://localhost:8080/"
        },
        "id": "5qXd5RD2nU64",
        "outputId": "769c4f14-cd5d-4498-96f9-1eb197dcabf7"
      },
      "execution_count": null,
      "outputs": [
        {
          "output_type": "stream",
          "name": "stdout",
          "text": [
            "False\n",
            "True\n",
            "True\n",
            "True\n",
            "True\n",
            "False\n"
          ]
        }
      ]
    },
    {
      "cell_type": "markdown",
      "source": [
        "# Logical Operators"
      ],
      "metadata": {
        "id": "qZfPsAfDrr1p"
      }
    },
    {
      "cell_type": "code",
      "source": [
        "# Logocal Operators\n",
        "\n",
        "print(1 and 0)\n",
        "\n",
        "print(1 or 0)\n",
        "\n",
        "print(not 1)"
      ],
      "metadata": {
        "colab": {
          "base_uri": "https://localhost:8080/"
        },
        "id": "Ok15zyJ2nnsL",
        "outputId": "7779c9fa-10b0-4875-893e-7110228ec366"
      },
      "execution_count": null,
      "outputs": [
        {
          "output_type": "stream",
          "name": "stdout",
          "text": [
            "0\n",
            "1\n",
            "False\n"
          ]
        }
      ]
    },
    {
      "cell_type": "markdown",
      "source": [
        "# Bitwise Operators"
      ],
      "metadata": {
        "id": "LEmvbrWpruNz"
      }
    },
    {
      "cell_type": "code",
      "source": [
        "# Bitwise Operators\n",
        "# Bitwise AND , OR, NOR, XOR, LShift, RShift\n",
        "\n",
        "# Bitwise and\n",
        "# 2 -> 010\n",
        "# 3 -> 011\n",
        "#     ------\n",
        "#      010\n",
        "#      =2\n",
        "print(2 & 3)\n",
        "\n",
        "# Bitwise or\n",
        "print(2 | 3)\n",
        "\n",
        "# Bitwise XOR\n",
        "# 2 -> 010\n",
        "# 3 -> 011\n",
        "#    ------\n",
        "#      001\n",
        "#       =1\n",
        "print(2 ^ 3)\n",
        "\n",
        "# Bitwise NOT\n",
        "print(~3)\n",
        "\n",
        "# Bitwise Left Shift\n",
        "print(4 >> 2)\n",
        "\n",
        "# Bitwise Right Shift\n",
        "print(5 >> 2)\n"
      ],
      "metadata": {
        "colab": {
          "base_uri": "https://localhost:8080/"
        },
        "id": "t7HDCVTLn1di",
        "outputId": "940ab89f-67a3-4b33-d5e8-236fc672653f"
      },
      "execution_count": null,
      "outputs": [
        {
          "output_type": "stream",
          "name": "stdout",
          "text": [
            "2\n",
            "3\n",
            "1\n",
            "-4\n",
            "1\n",
            "1\n"
          ]
        }
      ]
    },
    {
      "cell_type": "markdown",
      "source": [
        "# Assignmemnt Operators"
      ],
      "metadata": {
        "id": "yvlSqmbdr2HX"
      }
    },
    {
      "cell_type": "code",
      "source": [
        "# Assignment Operator\n",
        "# =\n",
        "\n",
        "# a = 2\n",
        "a = 2\n",
        "print(a)\n",
        "\n",
        "# a = a % 2\n",
        "a %= 2\n",
        "print(a)\n",
        "\n",
        "# This is not allowed -->  Due to ambuigty\n",
        "# a++ ++a --> Not allowed in Python"
      ],
      "metadata": {
        "colab": {
          "base_uri": "https://localhost:8080/"
        },
        "id": "WZMP7Iq7rOY3",
        "outputId": "0b659891-f2e1-4c9c-8127-8f9953a10c81"
      },
      "execution_count": null,
      "outputs": [
        {
          "output_type": "stream",
          "name": "stdout",
          "text": [
            "2\n",
            "0\n"
          ]
        }
      ]
    },
    {
      "cell_type": "markdown",
      "source": [
        "# Membership Operators"
      ],
      "metadata": {
        "id": "zqc7jDDrr5xq"
      }
    },
    {
      "cell_type": "code",
      "source": [
        "# Membership Operators\n",
        "# two types of operator are there --> in and not in\n",
        "\n",
        "# in\n",
        "print('D' in 'Delhi')\n",
        "print('B' in 'Bijay')\n",
        "\n",
        "# not in\n",
        "print('D' not in 'Delhi')\n",
        "print('B' not in 'Bijay')\n",
        "\n",
        "\n",
        "# Works in every Data Types_List, Set, Tuple, Dictionary\n",
        "print(1 in [2,3,4,5,6,7])\n",
        "\n",
        "print(1 in (1,2,3,4,5))\n"
      ],
      "metadata": {
        "colab": {
          "base_uri": "https://localhost:8080/"
        },
        "id": "llqUrB_Mr7cQ",
        "outputId": "16c3d0c9-c1d0-4fb7-8dbc-ed88d9e3d06a"
      },
      "execution_count": null,
      "outputs": [
        {
          "output_type": "stream",
          "name": "stdout",
          "text": [
            "True\n",
            "True\n",
            "False\n",
            "False\n",
            "False\n",
            "True\n"
          ]
        }
      ]
    },
    {
      "cell_type": "code",
      "source": [
        "# Program - Find The sum of a 3 digit number entered by the user\n",
        "\n",
        "# take input from user\n",
        "num= int(input('Enter three digit numbers:'))\n",
        "\n",
        "a=num%10\n",
        "num = num//10\n",
        "\n",
        "b=num%10\n",
        "num=num//10\n",
        "\n",
        "c=num%10\n",
        "num=num//10\n",
        "\n",
        "print(a+b+c)"
      ],
      "metadata": {
        "colab": {
          "base_uri": "https://localhost:8080/"
        },
        "id": "Gq6GvUiCugSt",
        "outputId": "a5920793-7d76-4c2d-92fc-9caf6f0ff2bc"
      },
      "execution_count": null,
      "outputs": [
        {
          "output_type": "stream",
          "name": "stdout",
          "text": [
            "Enter three digit numbers:567\n",
            "18\n"
          ]
        }
      ]
    },
    {
      "cell_type": "markdown",
      "source": [
        "# If-else in Python"
      ],
      "metadata": {
        "id": "WvaO04BtUA_0"
      }
    },
    {
      "cell_type": "code",
      "source": [
        "# login program and identification\n",
        "\n",
        "# We assue one email and password & write the program\n",
        "# email: bijayrauniyar90@gmail.com\n",
        "# password: aang\n",
        "\n",
        "email = input('Enter Email ')\n",
        "password = input('Enter password ')\n",
        "\n",
        "# if(condition){\n",
        "#     code\n",
        "# }\n",
        "\n",
        "# else{\n",
        "#     code\n",
        "# }\n",
        "\n",
        "# Well intentation code\n",
        "if email == 'bijayrauniyar90@gmail.com' and password == 'aang':\n",
        "  print('Welcome')\n",
        "\n",
        "else:\n",
        "  print('Not correct')"
      ],
      "metadata": {
        "id": "b6byWyiOwDqD",
        "colab": {
          "base_uri": "https://localhost:8080/"
        },
        "outputId": "a4f2dcb2-8216-4a16-b8e9-38b487a47530"
      },
      "execution_count": 1,
      "outputs": [
        {
          "output_type": "stream",
          "name": "stdout",
          "text": [
            "Enter Email bijayrauniyar90@gmail.com\n",
            "Enter password aang\n",
            "Welcome\n"
          ]
        }
      ]
    },
    {
      "cell_type": "code",
      "source": [
        "# elif condition\n",
        "# Real Life Example\n",
        "\n",
        "email = input('Enter email address: ')\n",
        "password = input('Enter password: ')\n",
        "\n",
        "if email == 'bijayrauniyar90@gmail.com' and password == 'aand':\n",
        "  print('Welcome');\n",
        "\n",
        "elif email == 'bijayrauniyar90@gmail.com' and password !='aang':\n",
        "  print('Incorrect Password')\n",
        "  password=input('Enter password again!')\n",
        "\n",
        "  if password == 'aang':\n",
        "    print(\"Welcome, Finally\")\n",
        "  else:\n",
        "    print(\"Incorrect again:\")\n",
        "\n",
        "else:\n",
        "  print('Incorrect Credentials')\n",
        "\n"
      ],
      "metadata": {
        "colab": {
          "base_uri": "https://localhost:8080/"
        },
        "id": "qC96753zWXOu",
        "outputId": "2d9a2994-9409-403d-d71c-7f8e579715ea"
      },
      "execution_count": 3,
      "outputs": [
        {
          "output_type": "stream",
          "name": "stdout",
          "text": [
            "Enter email address: bijayrauniyar90@gmail.com\n",
            "Enter password: aang12\n",
            "Incorrect Password\n",
            "Enter password again!aang\n",
            "Welcome, Finally\n"
          ]
        }
      ]
    }
  ],
  "metadata": {
    "colab": {
      "provenance": []
    },
    "kernelspec": {
      "display_name": "Python 3",
      "name": "python3"
    }
  },
  "nbformat": 4,
  "nbformat_minor": 0
}