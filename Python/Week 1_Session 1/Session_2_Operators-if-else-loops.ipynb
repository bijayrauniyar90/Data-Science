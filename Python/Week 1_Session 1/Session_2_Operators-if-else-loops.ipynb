{
  "cells": [
    {
      "cell_type": "markdown",
      "source": [
        "# Operators in Python\n",
        "\n",
        "* Arithemetic Operators\n",
        "* Relational Operators\n",
        "* Logical Operators\n",
        "* Bitwise Operators\n",
        "* Assignmemnt Operators\n",
        "* Membership Operators\n",
        "\n"
      ],
      "metadata": {
        "id": "gDkZ7MI9h3d6"
      }
    },
    {
      "cell_type": "code",
      "source": [
        "# Arithemetic Operators\n",
        "print(5 + 6)\n",
        "\n",
        "print(5 - 6)\n",
        "\n",
        "print(5 * 6)\n",
        "\n",
        "print(5 / 2)\n",
        "\n",
        "# It will give integer value\n",
        "print(5 // 2)"
      ],
      "metadata": {
        "colab": {
          "base_uri": "https://localhost:8080/"
        },
        "id": "fR2kchT_iCyC",
        "outputId": "f410b08c-0d9b-4f46-91dd-997d24087872"
      },
      "execution_count": 2,
      "outputs": [
        {
          "output_type": "stream",
          "name": "stdout",
          "text": [
            "11\n",
            "-1\n",
            "30\n",
            "2.5\n",
            "2\n"
          ]
        }
      ]
    }
  ],
  "metadata": {
    "colab": {
      "provenance": []
    },
    "kernelspec": {
      "display_name": "Python 3",
      "name": "python3"
    }
  },
  "nbformat": 4,
  "nbformat_minor": 0
}